{
 "cells": [
  {
   "cell_type": "code",
   "id": "initial_id",
   "metadata": {
    "collapsed": true,
    "ExecuteTime": {
     "end_time": "2025-09-09T06:09:19.103795Z",
     "start_time": "2025-09-09T06:09:13.865655Z"
    }
   },
   "source": [
    "import torch.nn as nn\n",
    "\n",
    "rnn=nn.RNN(input_size=3,hidden_size=4,num_layers=1,batch_first=True,bidirectional=False)\n",
    "#input_size：特征向量维度\n",
    "#hidden_size:隐藏层维度\n",
    "#num_layers：网络层数\n",
    "#batch_first:输入张量是否是 (batch, seq, feature)，\n",
    "#bidirectional:方向\n"
   ],
   "outputs": [],
   "execution_count": 2
  },
  {
   "metadata": {
    "ExecuteTime": {
     "end_time": "2025-09-09T07:32:13.306998Z",
     "start_time": "2025-09-09T07:32:13.299184Z"
    }
   },
   "cell_type": "code",
   "source": [
    "import torch\n",
    "#batch_size=2,字数长度seq=4,特征长度feature=3。\n",
    "input_tensor=torch.Tensor(2,4,3)"
   ],
   "id": "922b8879196bd4a4",
   "outputs": [],
   "execution_count": 28
  },
  {
   "metadata": {
    "ExecuteTime": {
     "end_time": "2025-09-09T07:32:14.721962Z",
     "start_time": "2025-09-09T07:32:14.712038Z"
    }
   },
   "cell_type": "code",
   "source": "input_tensor",
   "id": "439b185f18d78e71",
   "outputs": [
    {
     "data": {
      "text/plain": [
       "tensor([[[-3.7031e+24,  7.3989e-43,  0.0000e+00],\n",
       "         [ 0.0000e+00,  0.0000e+00,  0.0000e+00],\n",
       "         [ 0.0000e+00,  0.0000e+00,  0.0000e+00],\n",
       "         [ 0.0000e+00,  0.0000e+00,  0.0000e+00]],\n",
       "\n",
       "        [[ 0.0000e+00,  0.0000e+00,  0.0000e+00],\n",
       "         [ 0.0000e+00,  0.0000e+00,  0.0000e+00],\n",
       "         [ 0.0000e+00,  0.0000e+00,  0.0000e+00],\n",
       "         [ 0.0000e+00,  0.0000e+00,  0.0000e+00]]])"
      ]
     },
     "execution_count": 29,
     "metadata": {},
     "output_type": "execute_result"
    }
   ],
   "execution_count": 29
  },
  {
   "metadata": {
    "ExecuteTime": {
     "end_time": "2025-09-09T06:14:38.198684Z",
     "start_time": "2025-09-09T06:14:38.188581Z"
    }
   },
   "cell_type": "code",
   "source": [
    "hidden_0=torch.Tensor(1,2,4)\n",
    "hidden_0"
   ],
   "id": "5d2b44c6e05acdb",
   "outputs": [
    {
     "data": {
      "text/plain": [
       "tensor([[[2.3694e-38, 3.6013e-43, 0.0000e+00, 0.0000e+00],\n",
       "         [0.0000e+00, 0.0000e+00, 0.0000e+00, 0.0000e+00]]])"
      ]
     },
     "execution_count": 22,
     "metadata": {},
     "output_type": "execute_result"
    }
   ],
   "execution_count": 22
  },
  {
   "metadata": {
    "ExecuteTime": {
     "end_time": "2025-09-09T06:14:38.869310Z",
     "start_time": "2025-09-09T06:14:38.806023Z"
    }
   },
   "cell_type": "code",
   "source": "output_tensor,hidden_n=rnn(input_tensor,hidden_0)",
   "id": "a1b843d870074302",
   "outputs": [],
   "execution_count": 23
  },
  {
   "metadata": {
    "ExecuteTime": {
     "end_time": "2025-09-09T07:40:17.470054Z",
     "start_time": "2025-09-09T07:40:17.459186Z"
    }
   },
   "cell_type": "code",
   "source": "output_tensor.shape,hidden_n.shape",
   "id": "a81ea9a0b532ab7e",
   "outputs": [
    {
     "data": {
      "text/plain": [
       "(torch.Size([2, 4, 4]), torch.Size([1, 2, 4]))"
      ]
     },
     "execution_count": 30,
     "metadata": {},
     "output_type": "execute_result"
    }
   ],
   "execution_count": 30
  },
  {
   "metadata": {},
   "cell_type": "code",
   "outputs": [],
   "execution_count": null,
   "source": "",
   "id": "f54791b3f7e891b7"
  }
 ],
 "metadata": {
  "kernelspec": {
   "display_name": "Python 3",
   "language": "python",
   "name": "python3"
  },
  "language_info": {
   "codemirror_mode": {
    "name": "ipython",
    "version": 2
   },
   "file_extension": ".py",
   "mimetype": "text/x-python",
   "name": "python",
   "nbconvert_exporter": "python",
   "pygments_lexer": "ipython2",
   "version": "2.7.6"
  }
 },
 "nbformat": 4,
 "nbformat_minor": 5
}
